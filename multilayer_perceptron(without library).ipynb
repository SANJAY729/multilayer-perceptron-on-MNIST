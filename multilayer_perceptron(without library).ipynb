{
  "nbformat": 4,
  "nbformat_minor": 0,
  "metadata": {
    "kernelspec": {
      "display_name": "Python 3",
      "language": "python",
      "name": "python3"
    },
    "language_info": {
      "codemirror_mode": {
        "name": "ipython",
        "version": 3
      },
      "file_extension": ".py",
      "mimetype": "text/x-python",
      "name": "python",
      "nbconvert_exporter": "python",
      "pygments_lexer": "ipython3",
      "version": "3.6.9"
    },
    "colab": {
      "name": "multilayer-perceptron.ipynb",
      "provenance": [],
      "collapsed_sections": []
    }
  },
  "cells": [
    {
      "cell_type": "code",
      "metadata": {
        "id": "idBq333IHTMG",
        "colab_type": "code",
        "colab": {}
      },
      "source": [
        ""
      ],
      "execution_count": null,
      "outputs": []
    },
    {
      "cell_type": "code",
      "metadata": {
        "id": "iqqHjzo7HTMa",
        "colab_type": "code",
        "colab": {}
      },
      "source": [
        "from tensorflow.keras.datasets import mnist\n",
        "(X_train, Y_train), (X_test, Y_test) = mnist.load_data()\n",
        "X_train = X_train.reshape((X_train.shape[0], -1))\n",
        "X_test = X_test.reshape((X_test.shape[0], -1))\n",
        "X = np.concatenate((X_test,X_train),axis = 0)\n",
        "Y = np.concatenate((Y_test,Y_train),axis = 0).reshape(70000,1)\n",
        "Z = np.concatenate((X,Y),axis = 1)\n",
        "np.random.shuffle(Z)\n",
        "trn_data = Z[0:60000,0:784]\n",
        "trn_label = Z[0:60000,784:785]\n",
        "test_data = Z[60000:70000,0:784]\n",
        "test_label = Z[60000:70000,784:785]\n"
      ],
      "execution_count": 67,
      "outputs": []
    },
    {
      "cell_type": "code",
      "metadata": {
        "id": "LI95keXKHTMr",
        "colab_type": "code",
        "colab": {}
      },
      "source": [
        "import numpy as np"
      ],
      "execution_count": 68,
      "outputs": []
    },
    {
      "cell_type": "code",
      "metadata": {
        "id": "0AdWwcMoHTM7",
        "colab_type": "code",
        "colab": {}
      },
      "source": [
        "class mlp:\n",
        "    def __init__(self, sizeHidden = 100):\n",
        "        self.sizeHidden = sizeHidden #nodes in hidden layer\n",
        "        self.sizeInput = 784 #nodes in input layer\n",
        "        self.sizeOutput = 10 #nodes in output layer\n",
        "        self.weight1 = np.random.randn(self.sizeInput, self.sizeHidden)\n",
        "        self.weight2 = np.random.randn(self.sizeHidden, self.sizeOutput)\n",
        "        self.bias1 = np.zeros((self.sizeHidden,1))\n",
        "        self.bias2 = np.zeros((self.sizeOutput,1))\n",
        "        self.result1 = np.zeros((self.sizeHidden,1))\n",
        "        self.result2 = np.zeros((self.sizeOutput,1))\n",
        "        self.d_weight1 = np.zeros((self.sizeInput, self.sizeHidden))\n",
        "        self.d_weight2 = np.zeros((self.sizeHidden, self.sizeOutput))\n",
        "        print(\"nodes in input layer :\" + str(self.sizeInput))\n",
        "        print(\"nodes in hidden layer :\" + str(self.sizeHidden))\n",
        "        print(\"nodes in output layer :\" + str(self.sizeOutput))\n",
        "        \n",
        "    def sigmoid(self,x):\n",
        "        return 1/(1 + np.exp(-x))\n",
        "    \n",
        "    def sigmoidDerivative(self,x):\n",
        "        return x*(1-x)\n",
        "    \n",
        "    def forward_prop(self,x):\n",
        "        self.result1 = np.dot(np.transpose(self.weight1),x) + self.bias1\n",
        "        self.result1 = self.sigmoid(self.result1)\n",
        "        self.result2 = np.dot(np.transpose(self.weight2),self.result1) + self.bias2\n",
        "        self.result2 = self.sigmoid(self.result2)\n",
        "        return np.argmax(self.result2, axis=0)\n",
        "    \n",
        "    def backward_prop(self,x,y_actual):\n",
        "        self.d_weight2 = np.dot(self.result1, np.transpose(self.sigmoidDerivative(self.result2)))\n",
        "        prev = 2*(y_actual-self.result2)*self.sigmoidDerivative(self.result2)\n",
        "        self.d_weight1 = np.dot(x,np.transpose(np.dot(self.weight2,prev)*self.sigmoidDerivative(self.result1)))\n",
        "\n",
        "    def accuracy_on_test_data(self,X_test,Y_test):\n",
        "        count = 0\n",
        "        for j in range(10000):\n",
        "            x = X_test[j].reshape(784,1)\n",
        "            if(self.forward_prop(x) == Y_test[j]):\n",
        "                count = count + 1\n",
        "        return count/100    \n",
        "\n",
        "    def accuracy_on_train_data(self,X_train,Y_train):\n",
        "        count = 0\n",
        "        for j in range(60000):\n",
        "            x = X_train[j].reshape(784,1)\n",
        "            if(self.forward_prop(x) == Y_train[j]):\n",
        "                count = count + 1\n",
        "        return count/100 \n",
        "      \n",
        "    def train(self, X_train, Y_train, iterations, alpha, X_test, Y_test):\n",
        "        for i in range(iterations):\n",
        "            print(\"Currently in iteration:\" + str(i))      \n",
        "            for j in range(60000):\n",
        "                x = X_train[j].reshape(784,1)\n",
        "                temp = self.forward_prop(x)\n",
        "                y = np.zeros(10)\n",
        "                y_actual = y.reshape(10,1)\n",
        "                y_actual[Y_train[j]][0] = 1;\n",
        "                self.backward_prop(x,y_actual)\n",
        "                #updating the weights\n",
        "                self.weight1 = self.weight1 + alpha * self.d_weight1\n",
        "                self.weight2 = self.weight2 + alpha * self.d_weight2\n",
        "            print(\"Accuracy(test data) :\" + str(self.accuracy_on_test_data(X_test,Y_test)))\n",
        "            print(\"Accuracy(train data) :\" + str(self.accuracy_on_train_data(X_train,Y_train)))\n",
        "                \n",
        "    "
      ],
      "execution_count": 69,
      "outputs": []
    },
    {
      "cell_type": "code",
      "metadata": {
        "id": "M25iJ_8IHTNK",
        "colab_type": "code",
        "colab": {}
      },
      "source": [
        "from sklearn import preprocessing\n",
        "normalized_trn_data = preprocessing.normalize(trn_data)\n",
        "normalized_test_data = preprocessing.normalize(test_data)"
      ],
      "execution_count": 70,
      "outputs": []
    },
    {
      "cell_type": "code",
      "metadata": {
        "id": "S6MSW0RQHTNm",
        "colab_type": "code",
        "colab": {
          "base_uri": "https://localhost:8080/",
          "height": 578
        },
        "outputId": "5b217eec-f271-4bb8-c5e3-5c98c87127c0"
      },
      "source": [
        "MLP = mlp()\n",
        "MLP.train(normalized_trn_data,trn_label,100,0.1,normalized_test_data,test_label)"
      ],
      "execution_count": 72,
      "outputs": [
        {
          "output_type": "stream",
          "text": [
            "nodes in input layer :784\n",
            "nodes in hidden layer :100\n",
            "nodes in output layer :10\n",
            "Currently in iteration:0\n",
            "Accuracy(test data) :10.48\n",
            "Accuracy(train data) :60.95\n",
            "Currently in iteration:1\n",
            "Accuracy(test data) :10.5\n",
            "Accuracy(train data) :60.92\n",
            "Currently in iteration:2\n",
            "Accuracy(test data) :10.48\n",
            "Accuracy(train data) :60.8\n",
            "Currently in iteration:3\n"
          ],
          "name": "stdout"
        },
        {
          "output_type": "error",
          "ename": "KeyboardInterrupt",
          "evalue": "ignored",
          "traceback": [
            "\u001b[0;31m---------------------------------------------------------------------------\u001b[0m",
            "\u001b[0;31mKeyboardInterrupt\u001b[0m                         Traceback (most recent call last)",
            "\u001b[0;32m<ipython-input-72-1c9425741210>\u001b[0m in \u001b[0;36m<module>\u001b[0;34m()\u001b[0m\n\u001b[1;32m      1\u001b[0m \u001b[0mMLP\u001b[0m \u001b[0;34m=\u001b[0m \u001b[0mmlp\u001b[0m\u001b[0;34m(\u001b[0m\u001b[0;34m)\u001b[0m\u001b[0;34m\u001b[0m\u001b[0;34m\u001b[0m\u001b[0m\n\u001b[0;32m----> 2\u001b[0;31m \u001b[0mMLP\u001b[0m\u001b[0;34m.\u001b[0m\u001b[0mtrain\u001b[0m\u001b[0;34m(\u001b[0m\u001b[0mnormalized_trn_data\u001b[0m\u001b[0;34m,\u001b[0m\u001b[0mtrn_label\u001b[0m\u001b[0;34m,\u001b[0m\u001b[0;36m100\u001b[0m\u001b[0;34m,\u001b[0m\u001b[0;36m0.1\u001b[0m\u001b[0;34m,\u001b[0m\u001b[0mnormalized_test_data\u001b[0m\u001b[0;34m,\u001b[0m\u001b[0mtest_label\u001b[0m\u001b[0;34m)\u001b[0m\u001b[0;34m\u001b[0m\u001b[0;34m\u001b[0m\u001b[0m\n\u001b[0m",
            "\u001b[0;32m<ipython-input-69-9ff60e865c18>\u001b[0m in \u001b[0;36mtrain\u001b[0;34m(self, X_train, Y_train, iterations, alpha, X_test, Y_test)\u001b[0m\n\u001b[1;32m     55\u001b[0m             \u001b[0;32mfor\u001b[0m \u001b[0mj\u001b[0m \u001b[0;32min\u001b[0m \u001b[0mrange\u001b[0m\u001b[0;34m(\u001b[0m\u001b[0;36m60000\u001b[0m\u001b[0;34m)\u001b[0m\u001b[0;34m:\u001b[0m\u001b[0;34m\u001b[0m\u001b[0;34m\u001b[0m\u001b[0m\n\u001b[1;32m     56\u001b[0m                 \u001b[0mx\u001b[0m \u001b[0;34m=\u001b[0m \u001b[0mX_train\u001b[0m\u001b[0;34m[\u001b[0m\u001b[0mj\u001b[0m\u001b[0;34m]\u001b[0m\u001b[0;34m.\u001b[0m\u001b[0mreshape\u001b[0m\u001b[0;34m(\u001b[0m\u001b[0;36m784\u001b[0m\u001b[0;34m,\u001b[0m\u001b[0;36m1\u001b[0m\u001b[0;34m)\u001b[0m\u001b[0;34m\u001b[0m\u001b[0;34m\u001b[0m\u001b[0m\n\u001b[0;32m---> 57\u001b[0;31m                 \u001b[0mtemp\u001b[0m \u001b[0;34m=\u001b[0m \u001b[0mself\u001b[0m\u001b[0;34m.\u001b[0m\u001b[0mforward_prop\u001b[0m\u001b[0;34m(\u001b[0m\u001b[0mx\u001b[0m\u001b[0;34m)\u001b[0m\u001b[0;34m\u001b[0m\u001b[0;34m\u001b[0m\u001b[0m\n\u001b[0m\u001b[1;32m     58\u001b[0m                 \u001b[0my\u001b[0m \u001b[0;34m=\u001b[0m \u001b[0mnp\u001b[0m\u001b[0;34m.\u001b[0m\u001b[0mzeros\u001b[0m\u001b[0;34m(\u001b[0m\u001b[0;36m10\u001b[0m\u001b[0;34m)\u001b[0m\u001b[0;34m\u001b[0m\u001b[0;34m\u001b[0m\u001b[0m\n\u001b[1;32m     59\u001b[0m                 \u001b[0my_actual\u001b[0m \u001b[0;34m=\u001b[0m \u001b[0my\u001b[0m\u001b[0;34m.\u001b[0m\u001b[0mreshape\u001b[0m\u001b[0;34m(\u001b[0m\u001b[0;36m10\u001b[0m\u001b[0;34m,\u001b[0m\u001b[0;36m1\u001b[0m\u001b[0;34m)\u001b[0m\u001b[0;34m\u001b[0m\u001b[0;34m\u001b[0m\u001b[0m\n",
            "\u001b[0;32m<ipython-input-69-9ff60e865c18>\u001b[0m in \u001b[0;36mforward_prop\u001b[0;34m(self, x)\u001b[0m\n\u001b[1;32m     23\u001b[0m \u001b[0;34m\u001b[0m\u001b[0m\n\u001b[1;32m     24\u001b[0m     \u001b[0;32mdef\u001b[0m \u001b[0mforward_prop\u001b[0m\u001b[0;34m(\u001b[0m\u001b[0mself\u001b[0m\u001b[0;34m,\u001b[0m\u001b[0mx\u001b[0m\u001b[0;34m)\u001b[0m\u001b[0;34m:\u001b[0m\u001b[0;34m\u001b[0m\u001b[0;34m\u001b[0m\u001b[0m\n\u001b[0;32m---> 25\u001b[0;31m         \u001b[0mself\u001b[0m\u001b[0;34m.\u001b[0m\u001b[0mresult1\u001b[0m \u001b[0;34m=\u001b[0m \u001b[0mnp\u001b[0m\u001b[0;34m.\u001b[0m\u001b[0mdot\u001b[0m\u001b[0;34m(\u001b[0m\u001b[0mnp\u001b[0m\u001b[0;34m.\u001b[0m\u001b[0mtranspose\u001b[0m\u001b[0;34m(\u001b[0m\u001b[0mself\u001b[0m\u001b[0;34m.\u001b[0m\u001b[0mweight1\u001b[0m\u001b[0;34m)\u001b[0m\u001b[0;34m,\u001b[0m\u001b[0mx\u001b[0m\u001b[0;34m)\u001b[0m \u001b[0;34m+\u001b[0m \u001b[0mself\u001b[0m\u001b[0;34m.\u001b[0m\u001b[0mbias1\u001b[0m\u001b[0;34m\u001b[0m\u001b[0;34m\u001b[0m\u001b[0m\n\u001b[0m\u001b[1;32m     26\u001b[0m         \u001b[0mself\u001b[0m\u001b[0;34m.\u001b[0m\u001b[0mresult1\u001b[0m \u001b[0;34m=\u001b[0m \u001b[0mself\u001b[0m\u001b[0;34m.\u001b[0m\u001b[0msigmoid\u001b[0m\u001b[0;34m(\u001b[0m\u001b[0mself\u001b[0m\u001b[0;34m.\u001b[0m\u001b[0mresult1\u001b[0m\u001b[0;34m)\u001b[0m\u001b[0;34m\u001b[0m\u001b[0;34m\u001b[0m\u001b[0m\n\u001b[1;32m     27\u001b[0m         \u001b[0mself\u001b[0m\u001b[0;34m.\u001b[0m\u001b[0mresult2\u001b[0m \u001b[0;34m=\u001b[0m \u001b[0mnp\u001b[0m\u001b[0;34m.\u001b[0m\u001b[0mdot\u001b[0m\u001b[0;34m(\u001b[0m\u001b[0mnp\u001b[0m\u001b[0;34m.\u001b[0m\u001b[0mtranspose\u001b[0m\u001b[0;34m(\u001b[0m\u001b[0mself\u001b[0m\u001b[0;34m.\u001b[0m\u001b[0mweight2\u001b[0m\u001b[0;34m)\u001b[0m\u001b[0;34m,\u001b[0m\u001b[0mself\u001b[0m\u001b[0;34m.\u001b[0m\u001b[0mresult1\u001b[0m\u001b[0;34m)\u001b[0m \u001b[0;34m+\u001b[0m \u001b[0mself\u001b[0m\u001b[0;34m.\u001b[0m\u001b[0mbias2\u001b[0m\u001b[0;34m\u001b[0m\u001b[0;34m\u001b[0m\u001b[0m\n",
            "\u001b[0;32m<__array_function__ internals>\u001b[0m in \u001b[0;36mdot\u001b[0;34m(*args, **kwargs)\u001b[0m\n",
            "\u001b[0;31mKeyboardInterrupt\u001b[0m: "
          ]
        }
      ]
    }
  ]
}